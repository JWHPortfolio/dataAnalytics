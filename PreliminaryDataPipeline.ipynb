{
 "cells": [
  {
   "cell_type": "markdown",
   "id": "f4906cc0",
   "metadata": {},
   "source": [
    "# Preliminary Data Analytic Pipeline \n",
    "Provide a coded solution for each area below.  Where appropriate show output and explanations/insights.  Make sure it runs properly.\n",
    "You will need to install if required just\n",
    "\n",
    "!pip install < lib >\n",
    "* [pandas](https://pandas.pydata.org/)\n",
    "* [numpy](https://numpy.org/) \n",
    "* [sklearn](https://scikit-learn.org/stable) \n",
    "* [ydata_profiling](https://ydata-profiling.ydata.ai/docs/master/pages/getting_started/overview.html)"
   ]
  },
  {
   "cell_type": "code",
   "execution_count": 4,
   "id": "f268da31",
   "metadata": {},
   "outputs": [],
   "source": [
    "import pandas as pd\n",
    "import numpy as np\n",
    "import sklearn\n",
    "from ydata_profiling import ProfileReport\n",
    "from ydata_profiling.utils.cache import cache_file"
   ]
  },
  {
   "cell_type": "markdown",
   "id": "bd528649",
   "metadata": {},
   "source": [
    "## Data Integration\n",
    "Select a data store for **categorization** noting multiple input (X) features and one or more label(s) (y). For example if it is a fraud data set having multiple input features such as age, salary, transaction cost, etc and a label indicating fraudulent or not.  If you are ahead of the curve, you make work on the data set for your final project but it is not necessary.  One option is select the data from [kaggle.com](https://www.kaggle.com/datasets). Bring the data into a pandas dataframe. Do not select unstructured, free-form text or graphic data for this assignment. \n",
    "* Note why you selected this data set."
   ]
  },
  {
   "cell_type": "code",
   "execution_count": 5,
   "id": "aa35d307",
   "metadata": {},
   "outputs": [],
   "source": [
    "# data integration"
   ]
  },
  {
   "cell_type": "markdown",
   "id": "c6762a83",
   "metadata": {},
   "source": [
    "## Format and Type\n",
    "Determine the format of the file and the types of each feature."
   ]
  },
  {
   "cell_type": "code",
   "execution_count": 6,
   "id": "5309b06d",
   "metadata": {},
   "outputs": [],
   "source": [
    "## format and type"
   ]
  },
  {
   "cell_type": "markdown",
   "id": "1b723967",
   "metadata": {},
   "source": [
    "## Analysis\n",
    "Determine the dynamics of each feature (int/float - math stats, text - categorical or not)"
   ]
  },
  {
   "cell_type": "code",
   "execution_count": 7,
   "id": "b3afa0fd",
   "metadata": {},
   "outputs": [],
   "source": [
    "# analysis"
   ]
  },
  {
   "cell_type": "markdown",
   "id": "b97db5da",
   "metadata": {},
   "source": [
    "## Clean up\n",
    "* Find and List number of blank entries and outliers/errors\n",
    "* Take corrective actions and provide justification\n",
    "* Remove unnecessary features\n",
    "* If a categorical approach breakout the input features (X) from the output features (y)"
   ]
  },
  {
   "cell_type": "code",
   "execution_count": null,
   "id": "46038bee",
   "metadata": {},
   "outputs": [],
   "source": [
    "# Clean up"
   ]
  },
  {
   "cell_type": "markdown",
   "id": "9e4f0ad7",
   "metadata": {},
   "source": [
    "## Normalize\n",
    "Dont worry about text features but you must normalize the numeric features. \n",
    "* Provide rationale as to why the particular normalization feature was selected."
   ]
  },
  {
   "cell_type": "code",
   "execution_count": null,
   "id": "62d00232",
   "metadata": {},
   "outputs": [],
   "source": [
    "# Normalize the numeric features"
   ]
  },
  {
   "cell_type": "markdown",
   "id": "d5c4ab4c",
   "metadata": {},
   "source": [
    "## Feature and Label Selection\n",
    "Down select from your data, the input features and label(s)"
   ]
  },
  {
   "cell_type": "code",
   "execution_count": null,
   "id": "31a694cc",
   "metadata": {},
   "outputs": [],
   "source": [
    "# Set up the input features (X) and the assocated label(s) (y)"
   ]
  },
  {
   "cell_type": "markdown",
   "id": "eee231bd",
   "metadata": {},
   "source": [
    "## Split into 3 data sets for training, validation, and test (Explain your % for each)"
   ]
  },
  {
   "cell_type": "code",
   "execution_count": null,
   "id": "62f3f2c9",
   "metadata": {},
   "outputs": [],
   "source": [
    "# Split"
   ]
  },
  {
   "cell_type": "markdown",
   "id": "75ba9714",
   "metadata": {},
   "source": [
    "## Summary\n",
    "# Provide your thoughts on the quality, amount, trustworthiness, diffencencies, timeliness, and available documentation on the data you selected.  This can be written and/or code to demonstrate your conclusions.\n",
    "* Determine if the data selected is suitable for a machine learning ingest.\n",
    "* Note there are other prepossessing steps depending on the data such as graphics, free form text, and graphs and/or the type of model such as a time series model.  These topics are covered in the upcoming modules."
   ]
  },
  {
   "cell_type": "code",
   "execution_count": null,
   "id": "0b0f459e",
   "metadata": {},
   "outputs": [],
   "source": [
    "# Summary"
   ]
  },
  {
   "cell_type": "markdown",
   "id": "0155c594",
   "metadata": {},
   "source": [
    "# Quality Check\n",
    "After your analysis provide details on the following qualities of your selected data.\n",
    "* Overall Quality of the data\n",
    "* Sufficient amount of the data\n",
    "* Spareness of any data categories (eg. no young adults)\n",
    "* Trustworthiness of the data (Is it true?)\n",
    "* Timeliness of the data (is it recent?)  What might be the problem if it is not?\n",
    "* Note difficenties\n",
    "* Available document on the data types, how the data was collected, how it was verified?"
   ]
  },
  {
   "cell_type": "markdown",
   "id": "f8238d73",
   "metadata": {},
   "source": [
    "Provide your answers here for the quality check..."
   ]
  },
  {
   "cell_type": "markdown",
   "id": "d292b73f",
   "metadata": {},
   "source": [
    "# Extra Credit\n",
    "**Describe and demonstrate**  an interesting, useful, and unusual feature of one of the data listed libraries worthy of sharing with your class. **Or** expand of libraries by demonstrating a useful feature from a data library not used here."
   ]
  },
  {
   "cell_type": "code",
   "execution_count": null,
   "id": "30dd92a8",
   "metadata": {},
   "outputs": [],
   "source": [
    "# Extra Credit"
   ]
  }
 ],
 "metadata": {
  "kernelspec": {
   "display_name": "Python 3 (ipykernel)",
   "language": "python",
   "name": "python3"
  },
  "language_info": {
   "codemirror_mode": {
    "name": "ipython",
    "version": 3
   },
   "file_extension": ".py",
   "mimetype": "text/x-python",
   "name": "python",
   "nbconvert_exporter": "python",
   "pygments_lexer": "ipython3",
   "version": "3.10.6"
  }
 },
 "nbformat": 4,
 "nbformat_minor": 5
}
