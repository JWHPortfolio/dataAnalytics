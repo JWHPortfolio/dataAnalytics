{
 "cells": [
  {
   "cell_type": "markdown",
   "id": "e1bcd2bc",
   "metadata": {},
   "source": [
    "# Preliminary Data Analytic Pipeline \n",
    "Provide a coded solution for each area below.  Where appropriate show output and explanations/insights.  Make sure it runs properly.\n",
    "You will need to install the libraries below if required just\n",
    "\n",
    "!pip install < lib >\n",
    "* [pandas](https://pandas.pydata.org/)  \n",
    "   * [Pandas Tutorials](https://pandas.pydata.org/docs/getting_started/intro_tutorials/index.html) \n",
    "   * [Pandas Example](https://towardsdatascience.com/30-examples-to-master-pandas-f8a2da751fa4)\n",
    "* [numpy](https://numpy.org/) \n",
    "   * [Numpy Examples](https://numpy.org/doc/stable/user/quickstart.html)\n",
    "* [scikit-learn with Examples](https://scikit-learn.org/stable) \n",
    "* [ydata_profiling](https://ydata-profiling.ydata.ai/docs/master/pages/getting_started/overview.html)"
   ]
  },
  {
   "cell_type": "code",
   "execution_count": null,
   "id": "fcc9de8f",
   "metadata": {},
   "outputs": [],
   "source": [
    "!pip install pandas \n",
    "!pip install numpy \n",
    "!pip install scikit-learn "
   ]
  },
  {
   "cell_type": "code",
   "execution_count": null,
   "id": "ae8513fa",
   "metadata": {},
   "outputs": [],
   "source": [
    "import pandas as pd\n",
    "import numpy as np\n",
    "import sklearn\n",
    "from ydata_profiling import ProfileReport\n",
    "from ydata_profiling.utils.cache import cache_file"
   ]
  },
  {
   "cell_type": "markdown",
   "id": "e99cf18e",
   "metadata": {},
   "source": [
    "## Data Integration\n",
    "Use this [data set](https://www.kaggle.com/datasets/ulrikthygepedersen/speed-dating) from kaggle. for **categorization** noting multiple input (X) features and one or more label(s) (y)."
   ]
  },
  {
   "cell_type": "code",
   "execution_count": null,
   "id": "b23c1512",
   "metadata": {},
   "outputs": [],
   "source": [
    "# data integration"
   ]
  },
  {
   "cell_type": "markdown",
   "id": "d0aa00f7",
   "metadata": {},
   "source": [
    "## Format and Type\n",
    "Determine the format of the file and the types of each feature."
   ]
  },
  {
   "cell_type": "code",
   "execution_count": null,
   "id": "f5905d3b",
   "metadata": {},
   "outputs": [],
   "source": [
    "## format and type"
   ]
  },
  {
   "cell_type": "markdown",
   "id": "d3bdd885",
   "metadata": {},
   "source": [
    "## Analysis\n",
    "Determine the dynamics of each feature (int/float - math stats, text - categorical or not)"
   ]
  },
  {
   "cell_type": "code",
   "execution_count": null,
   "id": "0fb1cacf",
   "metadata": {},
   "outputs": [],
   "source": [
    "# analysis"
   ]
  },
  {
   "cell_type": "markdown",
   "id": "87f5165d",
   "metadata": {},
   "source": [
    "## Clean up\n",
    "* Find and List number of blank entries and outliers/errors\n",
    "* Take corrective actions and provide justification\n",
    "* Remove unnecessary features\n",
    "* If a categorical approach breakout the input features (X) from the output features (y)"
   ]
  },
  {
   "cell_type": "code",
   "execution_count": null,
   "id": "24c9e606",
   "metadata": {},
   "outputs": [],
   "source": [
    "# Clean up"
   ]
  },
  {
   "cell_type": "markdown",
   "id": "5cdff9b5",
   "metadata": {},
   "source": [
    "## Normalize\n",
    "Dont worry about text features but you must normalize the numeric features. \n",
    "* Provide rationale as to why the particular normalization feature was selected."
   ]
  },
  {
   "cell_type": "code",
   "execution_count": null,
   "id": "a7aa76dc",
   "metadata": {},
   "outputs": [],
   "source": [
    "# Normalize the numeric features"
   ]
  },
  {
   "cell_type": "markdown",
   "id": "201a30fc",
   "metadata": {},
   "source": [
    "## Feature and Label Selection\n",
    "Down select from your data, the input features and label(s)"
   ]
  },
  {
   "cell_type": "code",
   "execution_count": null,
   "id": "91ab23ed",
   "metadata": {},
   "outputs": [],
   "source": [
    "# Set up the input features (X) and the assocated label(s) (y)"
   ]
  },
  {
   "cell_type": "markdown",
   "id": "c9e1da5a",
   "metadata": {},
   "source": [
    "## Split into 3 data sets for training, validation, and test (Explain your % for each)"
   ]
  },
  {
   "cell_type": "code",
   "execution_count": null,
   "id": "56d4dbe6",
   "metadata": {},
   "outputs": [],
   "source": [
    "# Split"
   ]
  },
  {
   "cell_type": "markdown",
   "id": "6fd48d69",
   "metadata": {},
   "source": [
    "## Summary\n",
    "# Provide your thoughts on the quality, amount, trustworthiness, diffencencies, timeliness, and available documentation on the data you selected.  This can be written and/or code to demonstrate your conclusions.\n",
    "* Determine if the data selected is suitable for a machine learning ingest.\n",
    "* Note there are other prepossessing steps depending on the data such as graphics, free form text, and graphs and/or the type of model such as a time series model.  These topics are covered in the upcoming modules."
   ]
  },
  {
   "cell_type": "code",
   "execution_count": null,
   "id": "857c8dcd",
   "metadata": {},
   "outputs": [],
   "source": [
    "# Summary"
   ]
  },
  {
   "cell_type": "markdown",
   "id": "d0c24777",
   "metadata": {},
   "source": [
    "# Quality Check\n",
    "After your analysis provide details on the following qualities of your selected data.\n",
    "* Overall Quality of the data\n",
    "* Sufficient amount of the data\n",
    "* Spareness of any data categories (eg. no young adults)\n",
    "* Trustworthiness of the data (Is it true?)\n",
    "* Timeliness of the data (is it recent?)  What might be the problem if it is not?\n",
    "* Note difficenties\n",
    "* Available document on the data types, how the data was collected, how it was verified?"
   ]
  },
  {
   "cell_type": "markdown",
   "id": "2bb95e46",
   "metadata": {},
   "source": [
    "Provide your answers here for the quality check..."
   ]
  },
  {
   "cell_type": "markdown",
   "id": "9ebabd02",
   "metadata": {},
   "source": []
  }
 ],
 "metadata": {
  "kernelspec": {
   "display_name": "Python 3 (ipykernel)",
   "language": "python",
   "name": "python3"
  },
  "language_info": {
   "codemirror_mode": {
    "name": "ipython",
    "version": 3
   },
   "file_extension": ".py",
   "mimetype": "text/x-python",
   "name": "python",
   "nbconvert_exporter": "python",
   "pygments_lexer": "ipython3",
   "version": "3.10.6"
  }
 },
 "nbformat": 4,
 "nbformat_minor": 5
}
