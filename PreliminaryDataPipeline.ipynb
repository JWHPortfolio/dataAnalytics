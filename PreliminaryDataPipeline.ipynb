{
 "cells": [
  {
   "cell_type": "markdown",
   "id": "0b096345",
   "metadata": {},
   "source": [
    "# Preliminary Data Analytic Pipeline \n",
    "Provide a coded solution for each area below.  Where appropriate show output and explanations/insights.  Make sure it runs properly.\n",
    "You will need to install if required just\n",
    "\n",
    "!pip install < lib >\n",
    "* [pandas](https://pandas.pydata.org/)  \n",
    "   * [Pandas Tutorials](https://pandas.pydata.org/docs/getting_started/intro_tutorials/index.html) \n",
    "   * [Pandas Example](https://towardsdatascience.com/30-examples-to-master-pandas-f8a2da751fa4)\n",
    "* [numpy](https://numpy.org/) \n",
    "   * [Numpy Examples](https://numpy.org/doc/stable/user/quickstart.html)\n",
    "* [sklearn with Examples](https://scikit-learn.org/stable) \n",
    "* [ydata_profiling](https://ydata-profiling.ydata.ai/docs/master/pages/getting_started/overview.html)"
   ]
  },
  {
   "cell_type": "code",
   "execution_count": 4,
   "id": "e2e88cde",
   "metadata": {},
   "outputs": [],
   "source": [
    "import pandas as pd\n",
    "import numpy as np\n",
    "import sklearn\n",
    "from ydata_profiling import ProfileReport\n",
    "from ydata_profiling.utils.cache import cache_file"
   ]
  },
  {
   "cell_type": "markdown",
   "id": "5b87144f",
   "metadata": {},
   "source": [
    "## Data Integration\n",
    "Use this [data set](https://www.kaggle.com/datasets/ulrikthygepedersen/speed-dating) from kaggle. for **categorization** noting multiple input (X) features and one or more label(s) (y)."
   ]
  },
  {
   "cell_type": "code",
   "execution_count": 5,
   "id": "162a617b",
   "metadata": {},
   "outputs": [],
   "source": [
    "# data integration"
   ]
  },
  {
   "cell_type": "markdown",
   "id": "9f91cb9a",
   "metadata": {},
   "source": [
    "## Format and Type\n",
    "Determine the format of the file and the types of each feature."
   ]
  },
  {
   "cell_type": "code",
   "execution_count": 6,
   "id": "8dabe552",
   "metadata": {},
   "outputs": [],
   "source": [
    "## format and type"
   ]
  },
  {
   "cell_type": "markdown",
   "id": "53ec1ef4",
   "metadata": {},
   "source": [
    "## Analysis\n",
    "Determine the dynamics of each feature (int/float - math stats, text - categorical or not)"
   ]
  },
  {
   "cell_type": "code",
   "execution_count": 7,
   "id": "20cbbc39",
   "metadata": {},
   "outputs": [],
   "source": [
    "# analysis"
   ]
  },
  {
   "cell_type": "markdown",
   "id": "517b2a3a",
   "metadata": {},
   "source": [
    "## Clean up\n",
    "* Find and List number of blank entries and outliers/errors\n",
    "* Take corrective actions and provide justification\n",
    "* Remove unnecessary features\n",
    "* If a categorical approach breakout the input features (X) from the output features (y)"
   ]
  },
  {
   "cell_type": "code",
   "execution_count": null,
   "id": "914a75cc",
   "metadata": {},
   "outputs": [],
   "source": [
    "# Clean up"
   ]
  },
  {
   "cell_type": "markdown",
   "id": "ebbda60b",
   "metadata": {},
   "source": [
    "## Normalize\n",
    "Dont worry about text features but you must normalize the numeric features. \n",
    "* Provide rationale as to why the particular normalization feature was selected."
   ]
  },
  {
   "cell_type": "code",
   "execution_count": null,
   "id": "3c2bc8a5",
   "metadata": {},
   "outputs": [],
   "source": [
    "# Normalize the numeric features"
   ]
  },
  {
   "cell_type": "markdown",
   "id": "5b9a2e1f",
   "metadata": {},
   "source": [
    "## Feature and Label Selection\n",
    "Down select from your data, the input features and label(s)"
   ]
  },
  {
   "cell_type": "code",
   "execution_count": null,
   "id": "9d59fa3c",
   "metadata": {},
   "outputs": [],
   "source": [
    "# Set up the input features (X) and the assocated label(s) (y)"
   ]
  },
  {
   "cell_type": "markdown",
   "id": "66d94e5c",
   "metadata": {},
   "source": [
    "## Split into 3 data sets for training, validation, and test (Explain your % for each)"
   ]
  },
  {
   "cell_type": "code",
   "execution_count": null,
   "id": "fce9d320",
   "metadata": {},
   "outputs": [],
   "source": [
    "# Split"
   ]
  },
  {
   "cell_type": "markdown",
   "id": "61b1d75a",
   "metadata": {},
   "source": [
    "## Summary\n",
    "# Provide your thoughts on the quality, amount, trustworthiness, diffencencies, timeliness, and available documentation on the data you selected.  This can be written and/or code to demonstrate your conclusions.\n",
    "* Determine if the data selected is suitable for a machine learning ingest.\n",
    "* Note there are other prepossessing steps depending on the data such as graphics, free form text, and graphs and/or the type of model such as a time series model.  These topics are covered in the upcoming modules."
   ]
  },
  {
   "cell_type": "code",
   "execution_count": null,
   "id": "01da066f",
   "metadata": {},
   "outputs": [],
   "source": [
    "# Summary"
   ]
  },
  {
   "cell_type": "markdown",
   "id": "c5d2118e",
   "metadata": {},
   "source": [
    "# Quality Check\n",
    "After your analysis provide details on the following qualities of your selected data.\n",
    "* Overall Quality of the data\n",
    "* Sufficient amount of the data\n",
    "* Spareness of any data categories (eg. no young adults)\n",
    "* Trustworthiness of the data (Is it true?)\n",
    "* Timeliness of the data (is it recent?)  What might be the problem if it is not?\n",
    "* Note difficenties\n",
    "* Available document on the data types, how the data was collected, how it was verified?"
   ]
  },
  {
   "cell_type": "markdown",
   "id": "be339341",
   "metadata": {},
   "source": [
    "Provide your answers here for the quality check..."
   ]
  },
  {
   "cell_type": "markdown",
   "id": "e3a92ea3",
   "metadata": {},
   "source": []
  }
 ],
 "metadata": {
  "kernelspec": {
   "display_name": "Python 3 (ipykernel)",
   "language": "python",
   "name": "python3"
  },
  "language_info": {
   "codemirror_mode": {
    "name": "ipython",
    "version": 3
   },
   "file_extension": ".py",
   "mimetype": "text/x-python",
   "name": "python",
   "nbconvert_exporter": "python",
   "pygments_lexer": "ipython3",
   "version": "3.10.6"
  }
 },
 "nbformat": 4,
 "nbformat_minor": 5
}
